{
 "cells": [
  {
   "cell_type": "code",
   "execution_count": 14,
   "metadata": {},
   "outputs": [],
   "source": [
    "%matplotlib inline\n",
    "import SemDiff as sd\n",
    "import pandas as pd\n",
    "from gensim.models import Word2Vec"
   ]
  },
  {
   "cell_type": "code",
   "execution_count": 16,
   "metadata": {},
   "outputs": [],
   "source": [
    "# I'm assuming that the models are already saved and accessible\n",
    "intro_model = Word2Vec.load(\"../data/intro_citance_model.wv\")\n",
    "methods_model = Word2Vec.load(\"../data/methods_citance_model.wv\")\n",
    "discussion_model = Word2Vec.load(\"../data/discussion_citance_model.wv\")"
   ]
  },
  {
   "cell_type": "code",
   "execution_count": 17,
   "metadata": {},
   "outputs": [
    {
     "data": {
      "text/plain": [
       "0.24428386986255646"
      ]
     },
     "execution_count": 17,
     "metadata": {},
     "output_type": "execute_result"
    }
   ],
   "source": [
    "sd.project_word_on_axis(intro_model, \"theory\", [\"certain\", \"uncertain\"], k = 3)"
   ]
  },
  {
   "cell_type": "code",
   "execution_count": 18,
   "metadata": {},
   "outputs": [
    {
     "data": {
      "text/plain": [
       "0.07503204047679901"
      ]
     },
     "execution_count": 18,
     "metadata": {},
     "output_type": "execute_result"
    }
   ],
   "source": [
    "sd.project_word_on_axis(methods_model, \"theory\", [\"certain\", \"uncertain\"], k = 3)"
   ]
  },
  {
   "cell_type": "code",
   "execution_count": 72,
   "metadata": {},
   "outputs": [],
   "source": [
    "# repeat for a set of antonyms\n",
    "antonyms = [\n",
    "    [\"good\", \"bad\"],\n",
    "    ['always', 'never'],\n",
    "    ['higher', 'lower'],\n",
    "    ['true', 'false'],\n",
    "    ['certain', 'impossible'],\n",
    "    ['strong', 'weak'],\n",
    "    ['very', 'slightly'],\n",
    "    ['similar', 'unlike'],\n",
    "    ['arbitrary', 'reasonable'],\n",
    "    ['unexpected', 'expected'],\n",
    "    ['outside', 'inside'],\n",
    "    ['hypothetical', 'actual'],\n",
    "    ['under', 'upper'],\n",
    "    ['systemic', 'endemic'],\n",
    "    ['new', 'established'],\n",
    "    ['known', 'unknown'],\n",
    "    ['propose', 'answer'],\n",
    "    ['start', 'stop'],\n",
    "    ['worst', 'best']\n",
    "]\n",
    "\n",
    "words = ['result', 'study', 'method', 'theory', 'literature', 'finding', 'approach']\n",
    "intro_list = []\n",
    "methods_list = []\n",
    "discussion_list = []\n",
    "ant_names = []\n",
    "word_list = []\n",
    "for word in words:\n",
    "    for ant in antonyms:\n",
    "        intro_list.append(sd.project_word_on_axis(intro_model, word, ant, k = 3))\n",
    "        methods_list.append(sd.project_word_on_axis(methods_model, word, ant, k = 3))\n",
    "        discussion_list.append(sd.project_word_on_axis(discussion_model, word, ant, k = 3))\n",
    "        word_list.append(word)\n",
    "    \n",
    "        ant_names.append(\"{}-{}\".format(ant[0], ant[1]))"
   ]
  },
  {
   "cell_type": "code",
   "execution_count": 76,
   "metadata": {},
   "outputs": [
    {
     "data": {
      "text/html": [
       "<div>\n",
       "<style scoped>\n",
       "    .dataframe tbody tr th:only-of-type {\n",
       "        vertical-align: middle;\n",
       "    }\n",
       "\n",
       "    .dataframe tbody tr th {\n",
       "        vertical-align: top;\n",
       "    }\n",
       "\n",
       "    .dataframe thead th {\n",
       "        text-align: right;\n",
       "    }\n",
       "</style>\n",
       "<table border=\"1\" class=\"dataframe\">\n",
       "  <thead>\n",
       "    <tr style=\"text-align: right;\">\n",
       "      <th></th>\n",
       "      <th>antonym</th>\n",
       "      <th>intro</th>\n",
       "      <th>methods</th>\n",
       "      <th>discussion</th>\n",
       "      <th>word</th>\n",
       "    </tr>\n",
       "  </thead>\n",
       "  <tbody>\n",
       "    <tr>\n",
       "      <th>good-bad</th>\n",
       "      <td>good-bad</td>\n",
       "      <td>0.167759</td>\n",
       "      <td>0.017149</td>\n",
       "      <td>0.079017</td>\n",
       "      <td>result</td>\n",
       "    </tr>\n",
       "    <tr>\n",
       "      <th>always-never</th>\n",
       "      <td>always-never</td>\n",
       "      <td>-0.065391</td>\n",
       "      <td>-0.285983</td>\n",
       "      <td>-0.249468</td>\n",
       "      <td>result</td>\n",
       "    </tr>\n",
       "    <tr>\n",
       "      <th>higher-lower</th>\n",
       "      <td>higher-lower</td>\n",
       "      <td>0.095719</td>\n",
       "      <td>0.027025</td>\n",
       "      <td>NaN</td>\n",
       "      <td>result</td>\n",
       "    </tr>\n",
       "    <tr>\n",
       "      <th>true-false</th>\n",
       "      <td>true-false</td>\n",
       "      <td>-0.095423</td>\n",
       "      <td>-0.010417</td>\n",
       "      <td>0.037423</td>\n",
       "      <td>result</td>\n",
       "    </tr>\n",
       "    <tr>\n",
       "      <th>certain-impossible</th>\n",
       "      <td>certain-impossible</td>\n",
       "      <td>-0.023111</td>\n",
       "      <td>-0.121604</td>\n",
       "      <td>-0.110451</td>\n",
       "      <td>result</td>\n",
       "    </tr>\n",
       "  </tbody>\n",
       "</table>\n",
       "</div>"
      ],
      "text/plain": [
       "                               antonym     intro   methods  discussion    word\n",
       "good-bad                      good-bad  0.167759  0.017149    0.079017  result\n",
       "always-never              always-never -0.065391 -0.285983   -0.249468  result\n",
       "higher-lower              higher-lower  0.095719  0.027025         NaN  result\n",
       "true-false                  true-false -0.095423 -0.010417    0.037423  result\n",
       "certain-impossible  certain-impossible -0.023111 -0.121604   -0.110451  result"
      ]
     },
     "execution_count": 76,
     "metadata": {},
     "output_type": "execute_result"
    }
   ],
   "source": [
    "df = pd.DataFrame({'antonym': ant_names, \n",
    "                   'intro': intro_list, \n",
    "                   'methods': methods_list, \n",
    "                   'discussion': discussion_list,\n",
    "                   'word': word_list}, \n",
    "                  index = ant_names)\n",
    "df.head()"
   ]
  },
  {
   "cell_type": "code",
   "execution_count": 77,
   "metadata": {},
   "outputs": [],
   "source": [
    "df.to_csv('../data/semantic_.csv')"
   ]
  }
 ],
 "metadata": {
  "kernelspec": {
   "display_name": "Python 3",
   "language": "python",
   "name": "python3"
  },
  "language_info": {
   "codemirror_mode": {
    "name": "ipython",
    "version": 3
   },
   "file_extension": ".py",
   "mimetype": "text/x-python",
   "name": "python",
   "nbconvert_exporter": "python",
   "pygments_lexer": "ipython3",
   "version": "3.7.1"
  }
 },
 "nbformat": 4,
 "nbformat_minor": 2
}
