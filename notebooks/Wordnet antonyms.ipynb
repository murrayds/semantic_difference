{
 "cells": [
  {
   "cell_type": "markdown",
   "metadata": {},
   "source": [
    "#  Look up wordnet antonyms for Yelp reviews"
   ]
  },
  {
   "cell_type": "code",
   "execution_count": 20,
   "metadata": {},
   "outputs": [],
   "source": [
    "from nltk.tokenize import word_tokenize\n",
    "import pymongo\n",
    "from nltk.corpus import wordnet "
   ]
  },
  {
   "cell_type": "code",
   "execution_count": 3,
   "metadata": {},
   "outputs": [],
   "source": [
    "myclient = pymongo.MongoClient(\"mongodb://localhost:27017/\")\n",
    "mydb = myclient['yelp']"
   ]
  },
  {
   "cell_type": "markdown",
   "metadata": {},
   "source": [
    "I have the yelp reviews and tips in one big collection called docs. If you uncomment the first line and comment the second, this should work for you. "
   ]
  },
  {
   "cell_type": "code",
   "execution_count": 36,
   "metadata": {},
   "outputs": [],
   "source": [
    "# random_review = mydb.reviews.find_one( { }, { '_id': 0, 'text': 1 })['text']\n",
    "random_review = mydb.docs.find_one( { }, { '_id': 0, 'text': 1 })['text']"
   ]
  },
  {
   "cell_type": "code",
   "execution_count": 37,
   "metadata": {},
   "outputs": [],
   "source": [
    "tokens = word_tokenize(random_review)"
   ]
  },
  {
   "cell_type": "code",
   "execution_count": 40,
   "metadata": {},
   "outputs": [
    {
     "data": {
      "text/plain": [
       "{'Hard': {'easy', 'lightly', 'soft', 'voiced'},\n",
       " 'new': {'old', 'worn'},\n",
       " 'always': {'never'},\n",
       " 'no': {'all', 'some', 'yes'},\n",
       " 'stranger': {'acquaintance', 'familiar', 'native'},\n",
       " 'chains': {'unchain'},\n",
       " 'service': {'disservice'},\n",
       " 'has': {'abstain', 'lack', 'refuse'},\n",
       " 'taken': {'abstain', 'disclaim', 'give', 'obviate', 'refuse'},\n",
       " 'whole': {'fractional', 'half', 'partly'},\n",
       " 'level': {'raise'},\n",
       " 'perfectly': {'imperfectly'},\n",
       " 'green': {'ripe'},\n",
       " 'black': {'white', 'whiten'},\n",
       " 'comes': {'go', 'leave'},\n",
       " 'most': {'fewest', 'least'},\n",
       " 'relaxing': {'restless', 'stiffen', 'strain', 'tense'},\n",
       " 'incredible': {'credible'},\n",
       " 'get': {'end', 'leave', 'take_away'},\n",
       " 'full': {'empty', 'thin', 'wane'},\n",
       " 'head': {'foot', 'rear', 'tail'},\n",
       " 'even': {'odd', 'uneven'},\n",
       " 'worst': {'best', 'good', 'unregretful'},\n",
       " 'scented': {'deodorize', 'deodourise', 'scentless'},\n",
       " 'strong': {'impotent', 'weak'},\n",
       " 'good': {'bad', 'badness', 'evil', 'evilness', 'ill'},\n",
       " 'perfect': {'imperfect'},\n",
       " 'was': {'differ'},\n",
       " 'starts': {'end', 'finish', 'middle', 'stop'},\n",
       " 'glorious': {'inglorious'},\n",
       " 'were': {'differ'},\n",
       " 'involved': {'obviate', 'uninvolved'},\n",
       " 'doing': {'unmake'},\n",
       " 'best': {'bad', 'badly', 'disadvantageously', 'evil', 'ill', 'worst'},\n",
       " 'action': {'inaction', 'inactiveness', 'inactivity'},\n",
       " 'ever': {'never'},\n",
       " 'clearly': {'unintelligibly'},\n",
       " 'gets': {'end', 'leave', 'take_away'},\n",
       " 'well': {'badly', 'disadvantageously', 'ill'},\n",
       " 'talk': {'keep_quiet'},\n",
       " 'genuine': {'counterfeit'},\n",
       " 'some': {'all', 'no'},\n",
       " 'requirement': {'inessential'},\n",
       " 'much': {'little'},\n",
       " 'be': {'differ'},\n",
       " 'there': {'here'},\n",
       " 'started': {'end', 'stop'},\n",
       " 'flat': {'contrasty', 'indirectly', 'natural', 'sharp'},\n",
       " 'volume': {'softness'},\n",
       " 'all': {'no', 'partly', 'some'},\n",
       " 'making': {'break', 'unmake'},\n",
       " 'look': {'back'},\n",
       " 'like': {'dislike', 'unalike', 'unlike'},\n",
       " 'girl': {'boy', 'male_child', 'son'},\n",
       " 'worth': {'worthlessness'},\n",
       " 'noting': {'ignore'},\n",
       " 'did': {'unmake'},\n",
       " 'had': {'abstain', 'lack', 'refuse'},\n",
       " 'happen': {'dematerialise', 'dematerialize'},\n",
       " 'less': {'more'},\n",
       " 'skilled': {'unskilled'},\n",
       " 'end': {'begin', 'beginning', 'middle'},\n",
       " 'looked': {'back'},\n",
       " 'better': {'bad',\n",
       "  'badly',\n",
       "  'disadvantageously',\n",
       "  'evil',\n",
       "  'ill',\n",
       "  'worse',\n",
       "  'worsen'},\n",
       " 'days': {'night'},\n",
       " 'will': {'disinherit'},\n",
       " 'single': {'common', 'double', 'married', 'multiple'},\n",
       " 'out': {'safe'},\n",
       " 'make': {'break', 'unmake'}}"
      ]
     },
     "execution_count": 40,
     "metadata": {},
     "output_type": "execute_result"
    }
   ],
   "source": [
    "antonym_dict = dict()\n",
    "for token in tokens:\n",
    "    antonyms = []\n",
    "    for syn in wordnet.synsets(token): \n",
    "        for l in syn.lemmas(): \n",
    "            if l.antonyms(): \n",
    "                for a in l.antonyms():\n",
    "                    antonyms.append(a.name()) \n",
    "    if set(antonyms) != set():\n",
    "        antonym_dict[token] = set(antonyms)\n",
    "antonym_dict"
   ]
  }
 ],
 "metadata": {
  "kernelspec": {
   "display_name": "Python 3",
   "language": "python",
   "name": "python3"
  },
  "language_info": {
   "codemirror_mode": {
    "name": "ipython",
    "version": 3
   },
   "file_extension": ".py",
   "mimetype": "text/x-python",
   "name": "python",
   "nbconvert_exporter": "python",
   "pygments_lexer": "ipython3",
   "version": "3.6.4"
  }
 },
 "nbformat": 4,
 "nbformat_minor": 2
}
