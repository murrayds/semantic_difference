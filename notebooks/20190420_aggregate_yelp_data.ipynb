{
 "cells": [
  {
   "cell_type": "markdown",
   "metadata": {},
   "source": [
    "From the root directory of the repo:\n",
    "\n",
    "`pip install libs/z534`\n",
    "\n",
    "`pip install libs/SemDiff`"
   ]
  },
  {
   "cell_type": "code",
   "execution_count": 18,
   "metadata": {},
   "outputs": [],
   "source": [
    "import pymongo\n",
    "import pandas as pd\n",
    "import z534\n",
    "import SemDiff as sd"
   ]
  },
  {
   "cell_type": "markdown",
   "metadata": {},
   "source": [
    "Requires having Mongodb running with a database called 'yelp' and a collection called 'businesses' containing all of the businesses from the yelp dataset. "
   ]
  },
  {
   "cell_type": "code",
   "execution_count": 19,
   "metadata": {},
   "outputs": [],
   "source": [
    "db = z534.get_db()"
   ]
  },
  {
   "cell_type": "code",
   "execution_count": 20,
   "metadata": {},
   "outputs": [
    {
     "data": {
      "text/plain": [
       "{'_id': ObjectId('5c9f917de7e30ee4bd23d8b1'),\n",
       " 'business_id': 'QXAEGFB4oINsVuTFxEYKFQ',\n",
       " 'name': 'Emerald Chinese Restaurant',\n",
       " 'address': '30 Eglinton Avenue W',\n",
       " 'city': 'Mississauga',\n",
       " 'state': 'ON',\n",
       " 'postal_code': 'L5R 3E7',\n",
       " 'latitude': 43.6054989743,\n",
       " 'longitude': -79.652288909,\n",
       " 'stars': 2.5,\n",
       " 'review_count': 128,\n",
       " 'is_open': 1,\n",
       " 'attributes': {'RestaurantsReservations': 'True',\n",
       "  'GoodForMeal': \"{'dessert': False, 'latenight': False, 'lunch': True, 'dinner': True, 'brunch': False, 'breakfast': False}\",\n",
       "  'BusinessParking': \"{'garage': False, 'street': False, 'validated': False, 'lot': True, 'valet': False}\",\n",
       "  'Caters': 'True',\n",
       "  'NoiseLevel': \"u'loud'\",\n",
       "  'RestaurantsTableService': 'True',\n",
       "  'RestaurantsTakeOut': 'True',\n",
       "  'RestaurantsPriceRange2': '2',\n",
       "  'OutdoorSeating': 'False',\n",
       "  'BikeParking': 'False',\n",
       "  'Ambience': \"{'romantic': False, 'intimate': False, 'classy': False, 'hipster': False, 'divey': False, 'touristy': False, 'trendy': False, 'upscale': False, 'casual': True}\",\n",
       "  'HasTV': 'False',\n",
       "  'WiFi': \"u'no'\",\n",
       "  'GoodForKids': 'True',\n",
       "  'Alcohol': \"u'full_bar'\",\n",
       "  'RestaurantsAttire': \"u'casual'\",\n",
       "  'RestaurantsGoodForGroups': 'True',\n",
       "  'RestaurantsDelivery': 'False'},\n",
       " 'categories': 'Specialty Food, Restaurants, Dim Sum, Imported Food, Food, Chinese, Ethnic Food, Seafood',\n",
       " 'hours': {'Monday': '9:0-0:0',\n",
       "  'Tuesday': '9:0-0:0',\n",
       "  'Wednesday': '9:0-0:0',\n",
       "  'Thursday': '9:0-0:0',\n",
       "  'Friday': '9:0-1:0',\n",
       "  'Saturday': '9:0-1:0',\n",
       "  'Sunday': '9:0-0:0'},\n",
       " 'list_of_categories': ['Specialty Food',\n",
       "  'Restaurants',\n",
       "  'Dim Sum',\n",
       "  'Imported Food',\n",
       "  'Food',\n",
       "  'Chinese',\n",
       "  'Ethnic Food',\n",
       "  'Seafood']}"
      ]
     },
     "execution_count": 20,
     "metadata": {},
     "output_type": "execute_result"
    }
   ],
   "source": [
    "db.businesses.find_one({'list_of_categories': 'Restaurants'})"
   ]
  },
  {
   "cell_type": "code",
   "execution_count": 21,
   "metadata": {},
   "outputs": [
    {
     "data": {
      "text/plain": [
       "{'_id': ObjectId('5c9f917de7e30ee4bd23d8df'),\n",
       " 'business_id': 'Jff5hTK1ZMLKS06sOSNWdA',\n",
       " 'name': 'Radisson Hotel & Conference Centre Calgary Airport',\n",
       " 'address': '6620 36 Street NE',\n",
       " 'city': 'Calgary',\n",
       " 'state': 'AB',\n",
       " 'postal_code': 'T3J 4C8',\n",
       " 'latitude': 51.1118915249,\n",
       " 'longitude': -113.9804801532,\n",
       " 'stars': 3.5,\n",
       " 'review_count': 14,\n",
       " 'is_open': 1,\n",
       " 'attributes': {'RestaurantsPriceRange2': '2', 'WiFi': \"'free'\"},\n",
       " 'categories': 'Hotels & Travel, Hotels, Event Planning & Services',\n",
       " 'hours': None,\n",
       " 'list_of_categories': ['Hotels & Travel',\n",
       "  'Hotels',\n",
       "  'Event Planning & Services']}"
      ]
     },
     "execution_count": 21,
     "metadata": {},
     "output_type": "execute_result"
    }
   ],
   "source": [
    "db.businesses.find_one({'list_of_categories': 'Hotels'})"
   ]
  },
  {
   "cell_type": "code",
   "execution_count": 22,
   "metadata": {},
   "outputs": [
    {
     "data": {
      "text/plain": [
       "{'_id': ObjectId('5c9f917de7e30ee4bd23d8af'),\n",
       " 'business_id': 'HhyxOkGAM07SRYtlQ4wMFQ',\n",
       " 'name': 'Queen City Plumbing',\n",
       " 'address': '4209 Stuart Andrew Blvd, Ste F',\n",
       " 'city': 'Charlotte',\n",
       " 'state': 'NC',\n",
       " 'postal_code': '28217',\n",
       " 'latitude': 35.1900119,\n",
       " 'longitude': -80.8872232,\n",
       " 'stars': 4.0,\n",
       " 'review_count': 4,\n",
       " 'is_open': 1,\n",
       " 'attributes': {'BusinessAcceptsBitcoin': 'False',\n",
       "  'ByAppointmentOnly': 'True',\n",
       "  'BusinessAcceptsCreditCards': 'True'},\n",
       " 'categories': 'Plumbing, Shopping, Local Services, Home Services, Kitchen & Bath, Home & Garden, Water Heater Installation/Repair',\n",
       " 'hours': {'Monday': '7:0-23:0',\n",
       "  'Tuesday': '7:0-23:0',\n",
       "  'Wednesday': '7:0-23:0',\n",
       "  'Thursday': '7:0-23:0',\n",
       "  'Friday': '7:0-23:0',\n",
       "  'Saturday': '7:0-23:0',\n",
       "  'Sunday': '7:0-23:0'},\n",
       " 'list_of_categories': ['Plumbing',\n",
       "  'Shopping',\n",
       "  'Local Services',\n",
       "  'Home Services',\n",
       "  'Kitchen & Bath',\n",
       "  'Home & Garden',\n",
       "  'Water Heater Installation/Repair']}"
      ]
     },
     "execution_count": 22,
     "metadata": {},
     "output_type": "execute_result"
    }
   ],
   "source": [
    "db.businesses.find_one({'list_of_categories': 'Shopping'})"
   ]
  },
  {
   "cell_type": "code",
   "execution_count": 23,
   "metadata": {},
   "outputs": [
    {
     "name": "stdout",
     "output_type": "stream",
     "text": [
      "Number of hotels: 2625\n",
      "Number of restaurants: 59371\n",
      " Number of stores: 31878\n"
     ]
    }
   ],
   "source": [
    "restaurants_cursor = db.businesses.find({'list_of_categories': 'Restaurants'})\n",
    "hotels_cursor = db.businesses.find({'list_of_categories': 'Hotels'})\n",
    "store_cursor = db.businesses.find({'list_of_categories': 'Shopping'})\n",
    "\n",
    "restaurants = []\n",
    "hotels = []\n",
    "stores = []\n",
    "\n",
    "for item in restaurants_cursor:\n",
    "    restaurants.append(item)\n",
    "    \n",
    "for item in hotels_cursor:\n",
    "    hotels.append(item)\n",
    "    \n",
    "for item in store_cursor:\n",
    "    stores.append(item)\n",
    "    \n",
    "print(\"Number of hotels: {}\\nNumber of restaurants: {}\\n Number of stores: {}\" \\\n",
    "      .format(len(hotels), len(restaurants), len(stores)))"
   ]
  },
  {
   "cell_type": "code",
   "execution_count": 25,
   "metadata": {},
   "outputs": [
    {
     "name": "stdout",
     "output_type": "stream",
     "text": [
      "querying hotel reviews\n",
      "querying restaurant reviews\n",
      "querying shopping reviews\n",
      "\n",
      "Number of hotel reviews: 231380\n",
      "Number of restaurant reviews: 4159944\n",
      "Number of store reviews: 468741\n"
     ]
    }
   ],
   "source": [
    "print('querying hotel reviews')\n",
    "hotel_reviews = z534.mongo_utils.aggregate_reviews(db, business_category = 'Hotels')\n",
    "print('querying restaurant reviews')\n",
    "restaurant_reviews = z534.mongo_utils.aggregate_reviews(db, business_category = 'Restaurants')\n",
    "print('querying shopping reviews')\n",
    "store_reviews = z534.mongo_utils.aggregate_reviews(db, business_category = 'Shopping')\n",
    "\n",
    "print(\"\\nNumber of hotel reviews: {}\\nNumber of restaurant reviews: {}\\nNumber of store reviews: {}\" \\\n",
    "      .format(len(hotel_reviews), len(restaurant_reviews), len(store_reviews)))"
   ]
  },
  {
   "cell_type": "code",
   "execution_count": 26,
   "metadata": {},
   "outputs": [],
   "source": [
    "hotel_reviews_filt = hotel_reviews[:230000]\n",
    "restaurant_reviews_filt = restaurant_reviews[:230000]\n",
    "store_reviews_filt = store_reviews[:230000]"
   ]
  },
  {
   "cell_type": "code",
   "execution_count": 27,
   "metadata": {},
   "outputs": [],
   "source": [
    "hotel_df = pd.DataFrame(hotel_reviews_filt)\n",
    "restaurant_df = pd.DataFrame(restaurant_reviews_filt)\n",
    "store_df = pd.DataFrame(store_reviews_filt)"
   ]
  },
  {
   "cell_type": "code",
   "execution_count": 28,
   "metadata": {},
   "outputs": [],
   "source": [
    "import os"
   ]
  },
  {
   "cell_type": "code",
   "execution_count": 29,
   "metadata": {},
   "outputs": [],
   "source": [
    "def ensure_dir(file_path):\n",
    "    directory = os.path.dirname(file_path)\n",
    "    if not os.path.exists(directory):\n",
    "        os.makedirs(directory)"
   ]
  },
  {
   "cell_type": "markdown",
   "metadata": {},
   "source": [
    "This needs to be the same directory as is specified in `generate_gensim_models_yelp.py`"
   ]
  },
  {
   "cell_type": "code",
   "execution_count": 32,
   "metadata": {},
   "outputs": [],
   "source": [
    "DATA_DIR = '/Users/bsobolik/Documents/semantic_difference/data/'\n",
    "ensure_dir(DATA_DIR)"
   ]
  },
  {
   "cell_type": "code",
   "execution_count": 33,
   "metadata": {},
   "outputs": [],
   "source": [
    "hotel_df.to_csv(DATA_DIR + 'hotel_text.csv')\n",
    "restaurant_df.to_csv(DATA_DIR + 'restaurant_text.csv')\n",
    "store_df.to_csv(DATA_DIR + 'store_text.csv')"
   ]
  },
  {
   "cell_type": "markdown",
   "metadata": {},
   "source": [
    "At this point, `generate_gensim_models_yelp.py` needs to be run to create the word vectors. "
   ]
  },
  {
   "cell_type": "code",
   "execution_count": 34,
   "metadata": {},
   "outputs": [
    {
     "name": "stderr",
     "output_type": "stream",
     "text": [
      "/Users/bsobolik/.pyenv/versions/3.6.4/envs/tensorflow/lib/python3.6/site-packages/smart_open/ssh.py:34: UserWarning: paramiko missing, opening SSH/SCP/SFTP paths will be disabled.  `pip install paramiko` to suppress\n",
      "  warnings.warn('paramiko missing, opening SSH/SCP/SFTP paths will be disabled.  `pip install paramiko` to suppress')\n"
     ]
    }
   ],
   "source": [
    "# Now load the models that have already been trained\n",
    "from gensim.models import Word2Vec\n",
    "hotel_model = Word2Vec.load(DATA_DIR + \"hotel_model.wv\")\n",
    "restaurant_model = Word2Vec.load(DATA_DIR + \"restaurants_model.wv\")\n",
    "store_model = Word2Vec.load(DATA_DIR + \"store_model.wv\")"
   ]
  },
  {
   "cell_type": "code",
   "execution_count": 35,
   "metadata": {},
   "outputs": [],
   "source": [
    "# repeat for a set of antonyms\n",
    "antonyms = [\n",
    "    [\"good\", \"bad\"],\n",
    "    ['always', 'never'],\n",
    "    ['higher', 'lower'],\n",
    "    ['certain', 'impossible'],\n",
    "    ['strong', 'weak'],\n",
    "    ['very', 'slightly'],\n",
    "    ['similar', 'unlike'],\n",
    "    ['unexpected', 'expected'],\n",
    "    ['outside', 'inside'],\n",
    "    ['start', 'stop'],\n",
    "    ['worst', 'best'],\n",
    "    ['happy', 'sad'],\n",
    "    ['everywhere', 'nowhere'],\n",
    "    ['common', 'exceptional'],\n",
    "    ['fast', 'slow'],\n",
    "    ['average', 'poor'],\n",
    "    ['man', 'woman']\n",
    "    \n",
    "]\n",
    "\n",
    "words = ['customer', 'host', 'food', 'bed', 'cashier', 'parking', 'room', 'table', 'drink']\n",
    "models = [hotel_model, restaurant_model]\n",
    "models_names = [\"hotel\", \"restaurant\"]\n",
    "hotel_list = []\n",
    "restaurant_list = []\n",
    "\n",
    "ant_names = []\n",
    "word_list = []\n",
    "for word in words:\n",
    "    for ant in antonyms:\n",
    "        hotel_list.append(sd.project_word_on_axis(hotel_model, word, ant, k = 3))\n",
    "        restaurant_list.append(sd.project_word_on_axis(restaurant_model, word, ant, k = 3))\n",
    "\n",
    "        word_list.append(word)\n",
    "    \n",
    "        ant_names.append(\"{}-{}\".format(ant[0], ant[1]))"
   ]
  },
  {
   "cell_type": "code",
   "execution_count": 36,
   "metadata": {},
   "outputs": [
    {
     "data": {
      "text/html": [
       "<div>\n",
       "<style scoped>\n",
       "    .dataframe tbody tr th:only-of-type {\n",
       "        vertical-align: middle;\n",
       "    }\n",
       "\n",
       "    .dataframe tbody tr th {\n",
       "        vertical-align: top;\n",
       "    }\n",
       "\n",
       "    .dataframe thead th {\n",
       "        text-align: right;\n",
       "    }\n",
       "</style>\n",
       "<table border=\"1\" class=\"dataframe\">\n",
       "  <thead>\n",
       "    <tr style=\"text-align: right;\">\n",
       "      <th></th>\n",
       "      <th>antonym</th>\n",
       "      <th>hotel</th>\n",
       "      <th>restaurant</th>\n",
       "      <th>word</th>\n",
       "    </tr>\n",
       "  </thead>\n",
       "  <tbody>\n",
       "    <tr>\n",
       "      <th>good-bad</th>\n",
       "      <td>good-bad</td>\n",
       "      <td>0.335567</td>\n",
       "      <td>0.374934</td>\n",
       "      <td>customer</td>\n",
       "    </tr>\n",
       "    <tr>\n",
       "      <th>always-never</th>\n",
       "      <td>always-never</td>\n",
       "      <td>-0.069485</td>\n",
       "      <td>0.058174</td>\n",
       "      <td>customer</td>\n",
       "    </tr>\n",
       "    <tr>\n",
       "      <th>higher-lower</th>\n",
       "      <td>higher-lower</td>\n",
       "      <td>-0.033332</td>\n",
       "      <td>-0.023100</td>\n",
       "      <td>customer</td>\n",
       "    </tr>\n",
       "    <tr>\n",
       "      <th>certain-impossible</th>\n",
       "      <td>certain-impossible</td>\n",
       "      <td>0.019778</td>\n",
       "      <td>-0.072814</td>\n",
       "      <td>customer</td>\n",
       "    </tr>\n",
       "    <tr>\n",
       "      <th>strong-weak</th>\n",
       "      <td>strong-weak</td>\n",
       "      <td>0.106488</td>\n",
       "      <td>-0.026580</td>\n",
       "      <td>customer</td>\n",
       "    </tr>\n",
       "  </tbody>\n",
       "</table>\n",
       "</div>"
      ],
      "text/plain": [
       "                               antonym     hotel  restaurant      word\n",
       "good-bad                      good-bad  0.335567    0.374934  customer\n",
       "always-never              always-never -0.069485    0.058174  customer\n",
       "higher-lower              higher-lower -0.033332   -0.023100  customer\n",
       "certain-impossible  certain-impossible  0.019778   -0.072814  customer\n",
       "strong-weak                strong-weak  0.106488   -0.026580  customer"
      ]
     },
     "execution_count": 36,
     "metadata": {},
     "output_type": "execute_result"
    }
   ],
   "source": [
    "df = pd.DataFrame({'antonym': ant_names, \n",
    "                   'hotel': hotel_list, \n",
    "                   'restaurant': restaurant_list, \n",
    "                   'word': word_list}, \n",
    "                  index = ant_names)\n",
    "df.head()"
   ]
  },
  {
   "cell_type": "code",
   "execution_count": 37,
   "metadata": {},
   "outputs": [],
   "source": [
    "df.to_csv(DATA_DIR + 'yelp_semantic_word_axes.csv')"
   ]
  },
  {
   "cell_type": "code",
   "execution_count": 38,
   "metadata": {},
   "outputs": [],
   "source": [
    "shared = sd.get_shared_words(hotel_model, restaurant_model, topn_words = 10000)\n",
    "frames = []\n",
    "for word in words:\n",
    "    frames.append(sd.model_term_similarity(hotel_model, restaurant_model, word, shared))\n",
    "    \n",
    "hotel_restaurant_model = pd.concat(frames)\n",
    "\n",
    "hotel_restaurant_model.to_csv(DATA_DIR + 'hotel_restaurant_interword_similarity.csv')"
   ]
  },
  {
   "cell_type": "code",
   "execution_count": 39,
   "metadata": {},
   "outputs": [
    {
     "data": {
      "text/html": [
       "<div>\n",
       "<style scoped>\n",
       "    .dataframe tbody tr th:only-of-type {\n",
       "        vertical-align: middle;\n",
       "    }\n",
       "\n",
       "    .dataframe tbody tr th {\n",
       "        vertical-align: top;\n",
       "    }\n",
       "\n",
       "    .dataframe thead th {\n",
       "        text-align: right;\n",
       "    }\n",
       "</style>\n",
       "<table border=\"1\" class=\"dataframe\">\n",
       "  <thead>\n",
       "    <tr style=\"text-align: right;\">\n",
       "      <th></th>\n",
       "      <th>word</th>\n",
       "      <th>x</th>\n",
       "      <th>y</th>\n",
       "    </tr>\n",
       "  </thead>\n",
       "  <tbody>\n",
       "    <tr>\n",
       "      <th>0</th>\n",
       "      <td>customer</td>\n",
       "      <td>-0.258649</td>\n",
       "      <td>-0.166106</td>\n",
       "    </tr>\n",
       "    <tr>\n",
       "      <th>1</th>\n",
       "      <td>customer</td>\n",
       "      <td>-0.121688</td>\n",
       "      <td>-0.166807</td>\n",
       "    </tr>\n",
       "    <tr>\n",
       "      <th>2</th>\n",
       "      <td>customer</td>\n",
       "      <td>0.123599</td>\n",
       "      <td>0.215254</td>\n",
       "    </tr>\n",
       "    <tr>\n",
       "      <th>3</th>\n",
       "      <td>customer</td>\n",
       "      <td>-0.174325</td>\n",
       "      <td>-0.130121</td>\n",
       "    </tr>\n",
       "    <tr>\n",
       "      <th>4</th>\n",
       "      <td>customer</td>\n",
       "      <td>0.246405</td>\n",
       "      <td>0.253227</td>\n",
       "    </tr>\n",
       "  </tbody>\n",
       "</table>\n",
       "</div>"
      ],
      "text/plain": [
       "       word         x         y\n",
       "0  customer -0.258649 -0.166106\n",
       "1  customer -0.121688 -0.166807\n",
       "2  customer  0.123599  0.215254\n",
       "3  customer -0.174325 -0.130121\n",
       "4  customer  0.246405  0.253227"
      ]
     },
     "execution_count": 39,
     "metadata": {},
     "output_type": "execute_result"
    }
   ],
   "source": [
    "hotel_restaurant_model.head()"
   ]
  },
  {
   "cell_type": "code",
   "execution_count": null,
   "metadata": {},
   "outputs": [],
   "source": []
  }
 ],
 "metadata": {
  "kernelspec": {
   "display_name": "Python 3",
   "language": "python",
   "name": "python3"
  },
  "language_info": {
   "codemirror_mode": {
    "name": "ipython",
    "version": 3
   },
   "file_extension": ".py",
   "mimetype": "text/x-python",
   "name": "python",
   "nbconvert_exporter": "python",
   "pygments_lexer": "ipython3",
   "version": "3.6.4"
  }
 },
 "nbformat": 4,
 "nbformat_minor": 2
}
